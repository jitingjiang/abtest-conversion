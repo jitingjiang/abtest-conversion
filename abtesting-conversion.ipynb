{
 "cells": [
  {
   "cell_type": "markdown",
   "id": "dd49d3e2",
   "metadata": {},
   "source": [
    "## New Product Page and Conversion Rate"
   ]
  },
  {
   "cell_type": "markdown",
   "id": "650962ae",
   "metadata": {},
   "source": [
    "This project provides a step-by-step analysis of an A/B test in Python, under a popular online e-commerce business senario. The objective is to determine whether the company should launch a new version of the product page. "
   ]
  },
  {
   "cell_type": "code",
   "execution_count": 1,
   "id": "bc489fc0",
   "metadata": {},
   "outputs": [],
   "source": [
    "__author__ = \"Jiting Jiang\"\n",
    "__email__ = \"jiting.jiang@outlook.com\"\n",
    "__website__ = \"https://jitingjiang.github.io/minimal-portfolio/\""
   ]
  },
  {
   "cell_type": "code",
   "execution_count": 2,
   "id": "1ca49bdb",
   "metadata": {},
   "outputs": [],
   "source": [
    "import pandas as pd\n",
    "import numpy as np\n",
    "import matplotlib.pyplot as plt\n",
    "import seaborn as sns\n",
    "%matplotlib inline"
   ]
  },
  {
   "cell_type": "code",
   "execution_count": 3,
   "id": "36bcc942",
   "metadata": {},
   "outputs": [],
   "source": [
    "import scipy.stats as st\n",
    "from statsmodels.stats.proportion import proportion_effectsize\n",
    "from statsmodels.stats.proportion import proportions_ztest, proportion_confint\n",
    "from statsmodels.stats.power import TTestIndPower"
   ]
  },
  {
   "cell_type": "code",
   "execution_count": 4,
   "id": "0115e920",
   "metadata": {},
   "outputs": [],
   "source": [
    "from math import ceil\n",
    "from datetime import datetime"
   ]
  },
  {
   "cell_type": "code",
   "execution_count": 5,
   "id": "baaec4c7",
   "metadata": {},
   "outputs": [],
   "source": [
    "import warnings\n",
    "warnings.filterwarnings('ignore')"
   ]
  },
  {
   "cell_type": "markdown",
   "id": "d1e3d4e4",
   "metadata": {},
   "source": [
    "### Part 1 - The Introduction"
   ]
  },
  {
   "cell_type": "markdown",
   "id": "44dd9ccc",
   "metadata": {},
   "source": [
    "To understand whether the company should launch a new verison of the product page site-wide, the team plans to conduct an A/B test on a small group of users to assess the performance of the new page compared to the old one. \n",
    "\n",
    "Specifically, the treatment group will be shown the new product landing page, while the control group will see the old page. The randomization unit as well as the unit of analysis are both at the user (id) level. The goal metric is convertion rate. I consider a user converted if he/she buys the product during their user session. I will explain in Part 2 why this metric is considered to be good.  "
   ]
  },
  {
   "cell_type": "markdown",
   "id": "18df59a7",
   "metadata": {},
   "source": [
    "### Part 2 - Data Preparation"
   ]
  },
  {
   "cell_type": "markdown",
   "id": "2cfb4bc1",
   "metadata": {},
   "source": [
    "I will use a dataset from Kaggle which consists of about 300,000 user id records. Each record has information about when they visit the page, which type of product page each user land on, and whether they convert or not. "
   ]
  },
  {
   "cell_type": "code",
   "execution_count": 6,
   "id": "e2541502",
   "metadata": {},
   "outputs": [
    {
     "data": {
      "text/html": [
       "<div>\n",
       "<style scoped>\n",
       "    .dataframe tbody tr th:only-of-type {\n",
       "        vertical-align: middle;\n",
       "    }\n",
       "\n",
       "    .dataframe tbody tr th {\n",
       "        vertical-align: top;\n",
       "    }\n",
       "\n",
       "    .dataframe thead th {\n",
       "        text-align: right;\n",
       "    }\n",
       "</style>\n",
       "<table border=\"1\" class=\"dataframe\">\n",
       "  <thead>\n",
       "    <tr style=\"text-align: right;\">\n",
       "      <th></th>\n",
       "      <th>user_id</th>\n",
       "      <th>timestamp</th>\n",
       "      <th>group</th>\n",
       "      <th>landing_page</th>\n",
       "      <th>converted</th>\n",
       "    </tr>\n",
       "  </thead>\n",
       "  <tbody>\n",
       "    <tr>\n",
       "      <th>0</th>\n",
       "      <td>851104</td>\n",
       "      <td>2017-01-21 22:11:48.556739</td>\n",
       "      <td>control</td>\n",
       "      <td>old_page</td>\n",
       "      <td>0</td>\n",
       "    </tr>\n",
       "    <tr>\n",
       "      <th>1</th>\n",
       "      <td>804228</td>\n",
       "      <td>2017-01-12 08:01:45.159739</td>\n",
       "      <td>control</td>\n",
       "      <td>old_page</td>\n",
       "      <td>0</td>\n",
       "    </tr>\n",
       "    <tr>\n",
       "      <th>2</th>\n",
       "      <td>661590</td>\n",
       "      <td>2017-01-11 16:55:06.154213</td>\n",
       "      <td>treatment</td>\n",
       "      <td>new_page</td>\n",
       "      <td>0</td>\n",
       "    </tr>\n",
       "    <tr>\n",
       "      <th>3</th>\n",
       "      <td>853541</td>\n",
       "      <td>2017-01-08 18:28:03.143765</td>\n",
       "      <td>treatment</td>\n",
       "      <td>new_page</td>\n",
       "      <td>0</td>\n",
       "    </tr>\n",
       "    <tr>\n",
       "      <th>4</th>\n",
       "      <td>864975</td>\n",
       "      <td>2017-01-21 01:52:26.210827</td>\n",
       "      <td>control</td>\n",
       "      <td>old_page</td>\n",
       "      <td>1</td>\n",
       "    </tr>\n",
       "  </tbody>\n",
       "</table>\n",
       "</div>"
      ],
      "text/plain": [
       "   user_id                   timestamp      group landing_page  converted\n",
       "0   851104  2017-01-21 22:11:48.556739    control     old_page          0\n",
       "1   804228  2017-01-12 08:01:45.159739    control     old_page          0\n",
       "2   661590  2017-01-11 16:55:06.154213  treatment     new_page          0\n",
       "3   853541  2017-01-08 18:28:03.143765  treatment     new_page          0\n",
       "4   864975  2017-01-21 01:52:26.210827    control     old_page          1"
      ]
     },
     "execution_count": 6,
     "metadata": {},
     "output_type": "execute_result"
    }
   ],
   "source": [
    "df_raw = pd.read_csv('/Users/jitingjiang/OneDrive/Career/Courses/ownNotes/PracticeAlong/ab_data.csv')\n",
    "\n",
    "df_raw.head()"
   ]
  },
  {
   "cell_type": "code",
   "execution_count": 7,
   "id": "a3cc528e",
   "metadata": {},
   "outputs": [
    {
     "name": "stdout",
     "output_type": "stream",
     "text": [
      "<class 'pandas.core.frame.DataFrame'>\n",
      "RangeIndex: 294478 entries, 0 to 294477\n",
      "Data columns (total 5 columns):\n",
      " #   Column        Non-Null Count   Dtype \n",
      "---  ------        --------------   ----- \n",
      " 0   user_id       294478 non-null  int64 \n",
      " 1   timestamp     294478 non-null  object\n",
      " 2   group         294478 non-null  object\n",
      " 3   landing_page  294478 non-null  object\n",
      " 4   converted     294478 non-null  int64 \n",
      "dtypes: int64(2), object(3)\n",
      "memory usage: 11.2+ MB\n"
     ]
    }
   ],
   "source": [
    "df_raw.info()"
   ]
  },
  {
   "cell_type": "markdown",
   "id": "fcb60517",
   "metadata": {},
   "source": [
    "Before conducting the analysis, it is important to check for any duplicates and missingness in the dataset.\n",
    "\n",
    "I start with duplicates. Intuitively, the data can include duplicates, since a user can visit the landing page multiple times. The results show that there are 7788 duplicated occurance by user_id.\n",
    "\n",
    "Next, I want to decide whether I can use any of these duplicates or if I should drop them entirely. The idea is that if the duplicated records have different treatment statuses (i.e., the same user id is presented with both the new_page and old_page during their multiple visits), the experiment would be compromised. In that case, I should drop them altogether. \n",
    "\n",
    "To check this, I output the number of duplicated occurances regarding both 'user_id' and 'group' as well as those based solely on 'user_id'. However, the counts are not equal, suggesting that the same user_id may have been presented with different landing page types. \n",
    "\n",
    "I also directly output all the duplicated occurances, and not surprisingly, many user_ids are assigned to differnet landing pages during their multiple visits. \n",
    "\n",
    "Thus, I will have to drop all the duplicated occurences by setting 'keep=False' within the .duplicated() function."
   ]
  },
  {
   "cell_type": "code",
   "execution_count": 8,
   "id": "8de90085",
   "metadata": {},
   "outputs": [
    {
     "data": {
      "text/plain": [
       "7788"
      ]
     },
     "execution_count": 8,
     "metadata": {},
     "output_type": "execute_result"
    }
   ],
   "source": [
    "# check duplicates in 'user_id'\n",
    "df_raw.duplicated(['user_id'], keep=False).sum()"
   ]
  },
  {
   "cell_type": "code",
   "execution_count": 9,
   "id": "ba14473f",
   "metadata": {},
   "outputs": [
    {
     "data": {
      "text/plain": [
       "3998"
      ]
     },
     "execution_count": 9,
     "metadata": {},
     "output_type": "execute_result"
    }
   ],
   "source": [
    "# check duplicates in 'user_id' and 'group'\n",
    "df_raw.duplicated(['user_id','group'], keep=False).sum()"
   ]
  },
  {
   "cell_type": "code",
   "execution_count": 10,
   "id": "3caaeff8",
   "metadata": {},
   "outputs": [
    {
     "data": {
      "text/html": [
       "<div>\n",
       "<style scoped>\n",
       "    .dataframe tbody tr th:only-of-type {\n",
       "        vertical-align: middle;\n",
       "    }\n",
       "\n",
       "    .dataframe tbody tr th {\n",
       "        vertical-align: top;\n",
       "    }\n",
       "\n",
       "    .dataframe thead th {\n",
       "        text-align: right;\n",
       "    }\n",
       "</style>\n",
       "<table border=\"1\" class=\"dataframe\">\n",
       "  <thead>\n",
       "    <tr style=\"text-align: right;\">\n",
       "      <th></th>\n",
       "      <th>user_id</th>\n",
       "      <th>timestamp</th>\n",
       "      <th>group</th>\n",
       "      <th>landing_page</th>\n",
       "      <th>converted</th>\n",
       "    </tr>\n",
       "  </thead>\n",
       "  <tbody>\n",
       "    <tr>\n",
       "      <th>230259</th>\n",
       "      <td>630052</td>\n",
       "      <td>2017-01-17 01:16:05.208766</td>\n",
       "      <td>treatment</td>\n",
       "      <td>new_page</td>\n",
       "      <td>0</td>\n",
       "    </tr>\n",
       "    <tr>\n",
       "      <th>213114</th>\n",
       "      <td>630052</td>\n",
       "      <td>2017-01-07 12:25:54.089486</td>\n",
       "      <td>treatment</td>\n",
       "      <td>old_page</td>\n",
       "      <td>1</td>\n",
       "    </tr>\n",
       "    <tr>\n",
       "      <th>22513</th>\n",
       "      <td>630126</td>\n",
       "      <td>2017-01-14 13:35:54.778695</td>\n",
       "      <td>treatment</td>\n",
       "      <td>old_page</td>\n",
       "      <td>0</td>\n",
       "    </tr>\n",
       "    <tr>\n",
       "      <th>251762</th>\n",
       "      <td>630126</td>\n",
       "      <td>2017-01-19 17:16:00.280440</td>\n",
       "      <td>treatment</td>\n",
       "      <td>new_page</td>\n",
       "      <td>0</td>\n",
       "    </tr>\n",
       "    <tr>\n",
       "      <th>183371</th>\n",
       "      <td>630137</td>\n",
       "      <td>2017-01-20 02:08:49.893878</td>\n",
       "      <td>control</td>\n",
       "      <td>old_page</td>\n",
       "      <td>0</td>\n",
       "    </tr>\n",
       "    <tr>\n",
       "      <th>11792</th>\n",
       "      <td>630137</td>\n",
       "      <td>2017-01-22 14:59:22.051308</td>\n",
       "      <td>control</td>\n",
       "      <td>new_page</td>\n",
       "      <td>0</td>\n",
       "    </tr>\n",
       "  </tbody>\n",
       "</table>\n",
       "</div>"
      ],
      "text/plain": [
       "        user_id                   timestamp      group landing_page  converted\n",
       "230259   630052  2017-01-17 01:16:05.208766  treatment     new_page          0\n",
       "213114   630052  2017-01-07 12:25:54.089486  treatment     old_page          1\n",
       "22513    630126  2017-01-14 13:35:54.778695  treatment     old_page          0\n",
       "251762   630126  2017-01-19 17:16:00.280440  treatment     new_page          0\n",
       "183371   630137  2017-01-20 02:08:49.893878    control     old_page          0\n",
       "11792    630137  2017-01-22 14:59:22.051308    control     new_page          0"
      ]
     },
     "execution_count": 10,
     "metadata": {},
     "output_type": "execute_result"
    }
   ],
   "source": [
    "# view the duplicates \n",
    "duplicates = df_raw[df_raw.duplicated(['user_id'], keep=False)].sort_values('user_id')\n",
    "duplicates.head(6)"
   ]
  },
  {
   "cell_type": "code",
   "execution_count": 11,
   "id": "e8cfcde6",
   "metadata": {},
   "outputs": [
    {
     "data": {
      "text/plain": [
       "286690"
      ]
     },
     "execution_count": 11,
     "metadata": {},
     "output_type": "execute_result"
    }
   ],
   "source": [
    "# drop the duplicates\n",
    "df = df_raw.drop_duplicates(['user_id'], keep=False)\n",
    "df.shape[0]"
   ]
  },
  {
   "cell_type": "markdown",
   "id": "e371eda3",
   "metadata": {},
   "source": [
    "After dropping the duplicates, I continue to verify the consistency between the 'group' feature and the 'landing_page' feature. Now, it looks good."
   ]
  },
  {
   "cell_type": "code",
   "execution_count": 12,
   "id": "5f709e1c",
   "metadata": {},
   "outputs": [
    {
     "data": {
      "text/plain": [
       "1    286690\n",
       "Name: is_match, dtype: int64"
      ]
     },
     "execution_count": 12,
     "metadata": {},
     "output_type": "execute_result"
    }
   ],
   "source": [
    "# Create new column with boolean values based on conditions\n",
    "df['is_match'] = df.apply(lambda row: 1 if (row['group'] == 'control' and row['landing_page'] == 'old_page') or\n",
    "                                           (row['group'] == 'treatment' and row['landing_page'] == 'new_page') else 0, axis=1)\n",
    "df['is_match'].value_counts()"
   ]
  },
  {
   "cell_type": "markdown",
   "id": "f54cce9e",
   "metadata": {},
   "source": [
    "I then examine the missingness and there are no missing values found in the dataset."
   ]
  },
  {
   "cell_type": "code",
   "execution_count": 13,
   "id": "3bff1573",
   "metadata": {},
   "outputs": [
    {
     "data": {
      "text/plain": [
       "user_id         0\n",
       "timestamp       0\n",
       "group           0\n",
       "landing_page    0\n",
       "converted       0\n",
       "is_match        0\n",
       "dtype: int64"
      ]
     },
     "execution_count": 13,
     "metadata": {},
     "output_type": "execute_result"
    }
   ],
   "source": [
    "# check missingness\n",
    "df.isnull().sum()"
   ]
  },
  {
   "cell_type": "markdown",
   "id": "0c404098",
   "metadata": {},
   "source": [
    "I also extract the date information from the 'timestamp' feature to create a new feature called 'date'. This transformation will be useful when examining the temporal patterns of the outcome. "
   ]
  },
  {
   "cell_type": "code",
   "execution_count": 14,
   "id": "bbcaaa5a",
   "metadata": {},
   "outputs": [
    {
     "data": {
      "text/html": [
       "<div>\n",
       "<style scoped>\n",
       "    .dataframe tbody tr th:only-of-type {\n",
       "        vertical-align: middle;\n",
       "    }\n",
       "\n",
       "    .dataframe tbody tr th {\n",
       "        vertical-align: top;\n",
       "    }\n",
       "\n",
       "    .dataframe thead th {\n",
       "        text-align: right;\n",
       "    }\n",
       "</style>\n",
       "<table border=\"1\" class=\"dataframe\">\n",
       "  <thead>\n",
       "    <tr style=\"text-align: right;\">\n",
       "      <th></th>\n",
       "      <th>user_id</th>\n",
       "      <th>timestamp</th>\n",
       "      <th>group</th>\n",
       "      <th>landing_page</th>\n",
       "      <th>converted</th>\n",
       "      <th>is_match</th>\n",
       "      <th>date</th>\n",
       "    </tr>\n",
       "  </thead>\n",
       "  <tbody>\n",
       "    <tr>\n",
       "      <th>0</th>\n",
       "      <td>851104</td>\n",
       "      <td>2017-01-21 22:11:48.556739</td>\n",
       "      <td>control</td>\n",
       "      <td>old_page</td>\n",
       "      <td>0</td>\n",
       "      <td>1</td>\n",
       "      <td>2017-01-21</td>\n",
       "    </tr>\n",
       "    <tr>\n",
       "      <th>1</th>\n",
       "      <td>804228</td>\n",
       "      <td>2017-01-12 08:01:45.159739</td>\n",
       "      <td>control</td>\n",
       "      <td>old_page</td>\n",
       "      <td>0</td>\n",
       "      <td>1</td>\n",
       "      <td>2017-01-12</td>\n",
       "    </tr>\n",
       "    <tr>\n",
       "      <th>2</th>\n",
       "      <td>661590</td>\n",
       "      <td>2017-01-11 16:55:06.154213</td>\n",
       "      <td>treatment</td>\n",
       "      <td>new_page</td>\n",
       "      <td>0</td>\n",
       "      <td>1</td>\n",
       "      <td>2017-01-11</td>\n",
       "    </tr>\n",
       "    <tr>\n",
       "      <th>3</th>\n",
       "      <td>853541</td>\n",
       "      <td>2017-01-08 18:28:03.143765</td>\n",
       "      <td>treatment</td>\n",
       "      <td>new_page</td>\n",
       "      <td>0</td>\n",
       "      <td>1</td>\n",
       "      <td>2017-01-08</td>\n",
       "    </tr>\n",
       "    <tr>\n",
       "      <th>4</th>\n",
       "      <td>864975</td>\n",
       "      <td>2017-01-21 01:52:26.210827</td>\n",
       "      <td>control</td>\n",
       "      <td>old_page</td>\n",
       "      <td>1</td>\n",
       "      <td>1</td>\n",
       "      <td>2017-01-21</td>\n",
       "    </tr>\n",
       "    <tr>\n",
       "      <th>...</th>\n",
       "      <td>...</td>\n",
       "      <td>...</td>\n",
       "      <td>...</td>\n",
       "      <td>...</td>\n",
       "      <td>...</td>\n",
       "      <td>...</td>\n",
       "      <td>...</td>\n",
       "    </tr>\n",
       "    <tr>\n",
       "      <th>294473</th>\n",
       "      <td>751197</td>\n",
       "      <td>2017-01-03 22:28:38.630509</td>\n",
       "      <td>control</td>\n",
       "      <td>old_page</td>\n",
       "      <td>0</td>\n",
       "      <td>1</td>\n",
       "      <td>2017-01-03</td>\n",
       "    </tr>\n",
       "    <tr>\n",
       "      <th>294474</th>\n",
       "      <td>945152</td>\n",
       "      <td>2017-01-12 00:51:57.078372</td>\n",
       "      <td>control</td>\n",
       "      <td>old_page</td>\n",
       "      <td>0</td>\n",
       "      <td>1</td>\n",
       "      <td>2017-01-12</td>\n",
       "    </tr>\n",
       "    <tr>\n",
       "      <th>294475</th>\n",
       "      <td>734608</td>\n",
       "      <td>2017-01-22 11:45:03.439544</td>\n",
       "      <td>control</td>\n",
       "      <td>old_page</td>\n",
       "      <td>0</td>\n",
       "      <td>1</td>\n",
       "      <td>2017-01-22</td>\n",
       "    </tr>\n",
       "    <tr>\n",
       "      <th>294476</th>\n",
       "      <td>697314</td>\n",
       "      <td>2017-01-15 01:20:28.957438</td>\n",
       "      <td>control</td>\n",
       "      <td>old_page</td>\n",
       "      <td>0</td>\n",
       "      <td>1</td>\n",
       "      <td>2017-01-15</td>\n",
       "    </tr>\n",
       "    <tr>\n",
       "      <th>294477</th>\n",
       "      <td>715931</td>\n",
       "      <td>2017-01-16 12:40:24.467417</td>\n",
       "      <td>treatment</td>\n",
       "      <td>new_page</td>\n",
       "      <td>0</td>\n",
       "      <td>1</td>\n",
       "      <td>2017-01-16</td>\n",
       "    </tr>\n",
       "  </tbody>\n",
       "</table>\n",
       "<p>286690 rows × 7 columns</p>\n",
       "</div>"
      ],
      "text/plain": [
       "        user_id                   timestamp      group landing_page  \\\n",
       "0        851104  2017-01-21 22:11:48.556739    control     old_page   \n",
       "1        804228  2017-01-12 08:01:45.159739    control     old_page   \n",
       "2        661590  2017-01-11 16:55:06.154213  treatment     new_page   \n",
       "3        853541  2017-01-08 18:28:03.143765  treatment     new_page   \n",
       "4        864975  2017-01-21 01:52:26.210827    control     old_page   \n",
       "...         ...                         ...        ...          ...   \n",
       "294473   751197  2017-01-03 22:28:38.630509    control     old_page   \n",
       "294474   945152  2017-01-12 00:51:57.078372    control     old_page   \n",
       "294475   734608  2017-01-22 11:45:03.439544    control     old_page   \n",
       "294476   697314  2017-01-15 01:20:28.957438    control     old_page   \n",
       "294477   715931  2017-01-16 12:40:24.467417  treatment     new_page   \n",
       "\n",
       "        converted  is_match        date  \n",
       "0               0         1  2017-01-21  \n",
       "1               0         1  2017-01-12  \n",
       "2               0         1  2017-01-11  \n",
       "3               0         1  2017-01-08  \n",
       "4               1         1  2017-01-21  \n",
       "...           ...       ...         ...  \n",
       "294473          0         1  2017-01-03  \n",
       "294474          0         1  2017-01-12  \n",
       "294475          0         1  2017-01-22  \n",
       "294476          0         1  2017-01-15  \n",
       "294477          0         1  2017-01-16  \n",
       "\n",
       "[286690 rows x 7 columns]"
      ]
     },
     "execution_count": 14,
     "metadata": {},
     "output_type": "execute_result"
    }
   ],
   "source": [
    "# create 'date' from 'timestamp'\n",
    "df['date'] = pd.to_datetime(df['timestamp']).dt.date\n",
    "df"
   ]
  },
  {
   "cell_type": "markdown",
   "id": "3c073475",
   "metadata": {},
   "source": [
    "### Part 3 - Run A/B Testing"
   ]
  },
  {
   "cell_type": "markdown",
   "id": "e6612b1c",
   "metadata": {},
   "source": [
    "With the cleaned raw dataset, I can proceed the following steps of an A/B test. \n",
    "1. formulate hypothesis\n",
    "2. decide on goal metrics\n",
    "3. plot baseline values\n",
    "4. run power analysis\n",
    "5. run the experiment (including sanity test)\n",
    "6. analyze and interpret results"
   ]
  },
  {
   "cell_type": "markdown",
   "id": "a2cc0d2e",
   "metadata": {},
   "source": [
    "#### 1. Formulate Hypothesis"
   ]
  },
  {
   "cell_type": "markdown",
   "id": "841a7721",
   "metadata": {},
   "source": [
    "* H_0: the new product page does NOT affect the conversion rate\n",
    "* H_a: the new product page DOES affect the conversion rate"
   ]
  },
  {
   "cell_type": "markdown",
   "id": "d946ad00",
   "metadata": {},
   "source": [
    "#### 2. Decide on Metrics"
   ]
  },
  {
   "cell_type": "markdown",
   "id": "e1a86fb2",
   "metadata": {},
   "source": [
    "I explain here why I think conversation rate as a suitable metric for this experiment by showing it being measurable, sensitive, and attributable, although it is the only available outcome in the dataset. \n",
    "\n",
    "The conversion rate, in this context, is the percentage of users who visit the product page and subsequently make a purchase. \n",
    "\n",
    "* First, conversion rate is measurable. By determining whether a user converts (i.e., makes a purchase) or not, one can calculate the conversion rate easily.\n",
    "\n",
    "* Second, conversion rate is sensitive. It makes sense to think that users visting the landing page would be more likely to buy the product if they find the page more attractive. \n",
    "\n",
    "* Third, conversion rate is attributable. If the conversion rate goes up significantly, one can attribute that increase to the new product page. \n",
    "\n",
    "Considering these factors, conversion rate serves as a meaningful and appropriate metric for evaluating the efficacy of the new product page."
   ]
  },
  {
   "cell_type": "markdown",
   "id": "d4f9cb8b",
   "metadata": {},
   "source": [
    "#### 3. Plot Baseline Values"
   ]
  },
  {
   "cell_type": "markdown",
   "id": "c60acacf",
   "metadata": {},
   "source": [
    "To gain insights into the overall dataset, I tabulate the distributions of treatment group indicator and the outcome of whether users converted. The tabulations are performed separately for each variable as well as jointly.\n",
    "\n",
    "From the analysis, it is clear that half of the (unique) user_id has been assigned to the treatment group and the rest to the control group. Overall, the conversion rate across all observations is approximately 12%. When comparing the conversion rate between the treatment and control group, there does not appear to be much differences. I later perform statistical tests to see if the differences are statistically meaningful. "
   ]
  },
  {
   "cell_type": "code",
   "execution_count": 15,
   "id": "40c8f2ab",
   "metadata": {},
   "outputs": [
    {
     "data": {
      "text/plain": [
       "treatment    0.500181\n",
       "control      0.499819\n",
       "Name: group, dtype: float64"
      ]
     },
     "execution_count": 15,
     "metadata": {},
     "output_type": "execute_result"
    }
   ],
   "source": [
    "# check treatment status\n",
    "df['group'].value_counts(normalize=True)"
   ]
  },
  {
   "cell_type": "code",
   "execution_count": 16,
   "id": "575ce420",
   "metadata": {},
   "outputs": [
    {
     "data": {
      "text/plain": [
       "0    0.88055\n",
       "1    0.11945\n",
       "Name: converted, dtype: float64"
      ]
     },
     "execution_count": 16,
     "metadata": {},
     "output_type": "execute_result"
    }
   ],
   "source": [
    "# check outcomes\n",
    "df['converted'].value_counts(normalize=True)"
   ]
  },
  {
   "cell_type": "code",
   "execution_count": 17,
   "id": "98c432cf",
   "metadata": {},
   "outputs": [
    {
     "data": {
      "text/plain": [
       "group      converted\n",
       "control    0            0.879827\n",
       "           1            0.120173\n",
       "treatment  0            0.881274\n",
       "           1            0.118726\n",
       "Name: converted, dtype: float64"
      ]
     },
     "execution_count": 17,
     "metadata": {},
     "output_type": "execute_result"
    }
   ],
   "source": [
    "df.groupby('group')['converted'].value_counts(normalize=True)"
   ]
  },
  {
   "cell_type": "markdown",
   "id": "051736ea",
   "metadata": {},
   "source": [
    "#### 4. Run Power Analysis"
   ]
  },
  {
   "cell_type": "markdown",
   "id": "6a2c765c",
   "metadata": {},
   "source": [
    "Although the dataset seems to have all users assigned to the experiment, in reality, this is often not the case. Testing the entire user population is usually impractical and risky. Instead, a small subset of users is typically sampled for the experiment. \n",
    "\n",
    "However, before conducting the sampling, one critical question to ask is: how many users should be included in each group? Determining the sample size matters because a larger sample size allows for the detection of smaller differences, if they exist. To address this, power analysis is a common solution."
   ]
  },
  {
   "cell_type": "markdown",
   "id": "18a048ff",
   "metadata": {},
   "source": [
    "Here is the three key things to require when conducting power analysis. The output suggests the sample size required in each group. \n",
    "* power: 0.8\n",
    "* significance level: 0.05\n",
    "* minimum detectable effects (MDE, as decided): 2% (from 13% to 15%)"
   ]
  },
  {
   "cell_type": "code",
   "execution_count": 18,
   "id": "a43fa92f",
   "metadata": {},
   "outputs": [],
   "source": [
    "power = 0.8\n",
    "alpha = 0.05"
   ]
  },
  {
   "cell_type": "code",
   "execution_count": 19,
   "id": "a89ff522",
   "metadata": {},
   "outputs": [
    {
     "data": {
      "text/plain": [
       "-0.0576728617308947"
      ]
     },
     "execution_count": 19,
     "metadata": {},
     "output_type": "execute_result"
    }
   ],
   "source": [
    "# Calculating effect size based on our expected rates\n",
    "effect_size = proportion_effectsize(0.13, 0.15) \n",
    "effect_size"
   ]
  },
  {
   "cell_type": "code",
   "execution_count": 20,
   "id": "5f7f69c7",
   "metadata": {},
   "outputs": [
    {
     "name": "stdout",
     "output_type": "stream",
     "text": [
      "4721\n"
     ]
    }
   ],
   "source": [
    "sample_size = TTestIndPower().solve_power(\n",
    "    effect_size = effect_size, \n",
    "    power = power,\n",
    "    alpha=alpha,\n",
    "    nobs1=None) \n",
    "\n",
    "n_required = ceil(sample_size)\n",
    "print(n_required)"
   ]
  },
  {
   "cell_type": "markdown",
   "id": "a6779ebd",
   "metadata": {},
   "source": [
    "#### 5. Run the Experiment"
   ]
  },
  {
   "cell_type": "markdown",
   "id": "6bc21502",
   "metadata": {},
   "source": [
    "In this case, the randomization unit and the unit of analysis are both at the user level. \n",
    "\n",
    "I use the random sampling methods to obtain a sample with 9442 observations, with an equal number assigned to the treatment and control groups, as suggested by the power analysis."
   ]
  },
  {
   "cell_type": "code",
   "execution_count": 21,
   "id": "008bbad7",
   "metadata": {},
   "outputs": [],
   "source": [
    "control_sample = df[df['group'] == 'control'].sample(n=n_required, random_state=22)\n",
    "treated_sample = df[df['group'] == 'treatment'].sample(n=n_required, random_state=22)"
   ]
  },
  {
   "cell_type": "code",
   "execution_count": 22,
   "id": "4c9ea81a",
   "metadata": {},
   "outputs": [
    {
     "data": {
      "text/html": [
       "<div>\n",
       "<style scoped>\n",
       "    .dataframe tbody tr th:only-of-type {\n",
       "        vertical-align: middle;\n",
       "    }\n",
       "\n",
       "    .dataframe tbody tr th {\n",
       "        vertical-align: top;\n",
       "    }\n",
       "\n",
       "    .dataframe thead th {\n",
       "        text-align: right;\n",
       "    }\n",
       "</style>\n",
       "<table border=\"1\" class=\"dataframe\">\n",
       "  <thead>\n",
       "    <tr style=\"text-align: right;\">\n",
       "      <th></th>\n",
       "      <th>user_id</th>\n",
       "      <th>timestamp</th>\n",
       "      <th>group</th>\n",
       "      <th>landing_page</th>\n",
       "      <th>converted</th>\n",
       "      <th>is_match</th>\n",
       "      <th>date</th>\n",
       "    </tr>\n",
       "  </thead>\n",
       "  <tbody>\n",
       "    <tr>\n",
       "      <th>0</th>\n",
       "      <td>763854</td>\n",
       "      <td>2017-01-21 03:43:17.188315</td>\n",
       "      <td>control</td>\n",
       "      <td>old_page</td>\n",
       "      <td>0</td>\n",
       "      <td>1</td>\n",
       "      <td>2017-01-21</td>\n",
       "    </tr>\n",
       "    <tr>\n",
       "      <th>1</th>\n",
       "      <td>690555</td>\n",
       "      <td>2017-01-18 06:38:13.079449</td>\n",
       "      <td>control</td>\n",
       "      <td>old_page</td>\n",
       "      <td>0</td>\n",
       "      <td>1</td>\n",
       "      <td>2017-01-18</td>\n",
       "    </tr>\n",
       "    <tr>\n",
       "      <th>2</th>\n",
       "      <td>861520</td>\n",
       "      <td>2017-01-06 21:13:40.044766</td>\n",
       "      <td>control</td>\n",
       "      <td>old_page</td>\n",
       "      <td>0</td>\n",
       "      <td>1</td>\n",
       "      <td>2017-01-06</td>\n",
       "    </tr>\n",
       "    <tr>\n",
       "      <th>3</th>\n",
       "      <td>630778</td>\n",
       "      <td>2017-01-05 16:42:36.995204</td>\n",
       "      <td>control</td>\n",
       "      <td>old_page</td>\n",
       "      <td>0</td>\n",
       "      <td>1</td>\n",
       "      <td>2017-01-05</td>\n",
       "    </tr>\n",
       "    <tr>\n",
       "      <th>4</th>\n",
       "      <td>656634</td>\n",
       "      <td>2017-01-04 15:31:21.676130</td>\n",
       "      <td>control</td>\n",
       "      <td>old_page</td>\n",
       "      <td>0</td>\n",
       "      <td>1</td>\n",
       "      <td>2017-01-04</td>\n",
       "    </tr>\n",
       "    <tr>\n",
       "      <th>...</th>\n",
       "      <td>...</td>\n",
       "      <td>...</td>\n",
       "      <td>...</td>\n",
       "      <td>...</td>\n",
       "      <td>...</td>\n",
       "      <td>...</td>\n",
       "      <td>...</td>\n",
       "    </tr>\n",
       "    <tr>\n",
       "      <th>9437</th>\n",
       "      <td>873211</td>\n",
       "      <td>2017-01-05 00:57:16.167151</td>\n",
       "      <td>treatment</td>\n",
       "      <td>new_page</td>\n",
       "      <td>0</td>\n",
       "      <td>1</td>\n",
       "      <td>2017-01-05</td>\n",
       "    </tr>\n",
       "    <tr>\n",
       "      <th>9438</th>\n",
       "      <td>631276</td>\n",
       "      <td>2017-01-20 18:56:58.167809</td>\n",
       "      <td>treatment</td>\n",
       "      <td>new_page</td>\n",
       "      <td>0</td>\n",
       "      <td>1</td>\n",
       "      <td>2017-01-20</td>\n",
       "    </tr>\n",
       "    <tr>\n",
       "      <th>9439</th>\n",
       "      <td>662301</td>\n",
       "      <td>2017-01-03 08:10:57.768806</td>\n",
       "      <td>treatment</td>\n",
       "      <td>new_page</td>\n",
       "      <td>0</td>\n",
       "      <td>1</td>\n",
       "      <td>2017-01-03</td>\n",
       "    </tr>\n",
       "    <tr>\n",
       "      <th>9440</th>\n",
       "      <td>944623</td>\n",
       "      <td>2017-01-19 10:56:01.648653</td>\n",
       "      <td>treatment</td>\n",
       "      <td>new_page</td>\n",
       "      <td>1</td>\n",
       "      <td>1</td>\n",
       "      <td>2017-01-19</td>\n",
       "    </tr>\n",
       "    <tr>\n",
       "      <th>9441</th>\n",
       "      <td>828830</td>\n",
       "      <td>2017-01-09 22:12:23.978686</td>\n",
       "      <td>treatment</td>\n",
       "      <td>new_page</td>\n",
       "      <td>0</td>\n",
       "      <td>1</td>\n",
       "      <td>2017-01-09</td>\n",
       "    </tr>\n",
       "  </tbody>\n",
       "</table>\n",
       "<p>9442 rows × 7 columns</p>\n",
       "</div>"
      ],
      "text/plain": [
       "      user_id                   timestamp      group landing_page  converted  \\\n",
       "0      763854  2017-01-21 03:43:17.188315    control     old_page          0   \n",
       "1      690555  2017-01-18 06:38:13.079449    control     old_page          0   \n",
       "2      861520  2017-01-06 21:13:40.044766    control     old_page          0   \n",
       "3      630778  2017-01-05 16:42:36.995204    control     old_page          0   \n",
       "4      656634  2017-01-04 15:31:21.676130    control     old_page          0   \n",
       "...       ...                         ...        ...          ...        ...   \n",
       "9437   873211  2017-01-05 00:57:16.167151  treatment     new_page          0   \n",
       "9438   631276  2017-01-20 18:56:58.167809  treatment     new_page          0   \n",
       "9439   662301  2017-01-03 08:10:57.768806  treatment     new_page          0   \n",
       "9440   944623  2017-01-19 10:56:01.648653  treatment     new_page          1   \n",
       "9441   828830  2017-01-09 22:12:23.978686  treatment     new_page          0   \n",
       "\n",
       "      is_match        date  \n",
       "0            1  2017-01-21  \n",
       "1            1  2017-01-18  \n",
       "2            1  2017-01-06  \n",
       "3            1  2017-01-05  \n",
       "4            1  2017-01-04  \n",
       "...        ...         ...  \n",
       "9437         1  2017-01-05  \n",
       "9438         1  2017-01-20  \n",
       "9439         1  2017-01-03  \n",
       "9440         1  2017-01-19  \n",
       "9441         1  2017-01-09  \n",
       "\n",
       "[9442 rows x 7 columns]"
      ]
     },
     "execution_count": 22,
     "metadata": {},
     "output_type": "execute_result"
    }
   ],
   "source": [
    "sample = pd.concat([control_sample,treated_sample], axis=0).reset_index(drop=True)\n",
    "sample"
   ]
  },
  {
   "cell_type": "markdown",
   "id": "803deb27",
   "metadata": {},
   "source": [
    "#### 6. Analyze Results"
   ]
  },
  {
   "cell_type": "markdown",
   "id": "b5c6aad3",
   "metadata": {},
   "source": [
    "I then analyze the selected sample in three main ways. \n",
    "\n",
    "First, I calulate the average conversion rate for both the treatment and control groups and the difference between them. \n",
    "\n",
    "Second, I present two visualizations. The first visualization compares the conversion rates between the two groups, while the second visualization plots the conversion rates over time for each group.\n",
    "\n",
    "Third, I conduct formal statistical tests to check whether the observed differences are statisitcally significant. These tests include: \n",
    "* Two-sample T test\n",
    "* Two-sample proportion Z test\n",
    "* Chi-square test\n",
    "* Bootstrapping"
   ]
  },
  {
   "cell_type": "markdown",
   "id": "c8203899",
   "metadata": {},
   "source": [
    "##### 6.1 Calculate mean difference"
   ]
  },
  {
   "cell_type": "code",
   "execution_count": 23,
   "id": "f3a76208",
   "metadata": {},
   "outputs": [
    {
     "name": "stdout",
     "output_type": "stream",
     "text": [
      "0.12327896632069477 0.12560898114806185\n"
     ]
    }
   ],
   "source": [
    "control_mean = control_sample['converted'].value_counts(normalize=True)[1]\n",
    "treated_mean = treated_sample['converted'].value_counts(normalize=True)[1]\n",
    "print(control_mean, treated_mean)"
   ]
  },
  {
   "cell_type": "code",
   "execution_count": 24,
   "id": "9ae3b6e2",
   "metadata": {},
   "outputs": [
    {
     "data": {
      "text/plain": [
       "0.018900343642611683"
      ]
     },
     "execution_count": 24,
     "metadata": {},
     "output_type": "execute_result"
    }
   ],
   "source": [
    "diff_mean = (treated_mean - control_mean)/control_mean\n",
    "diff_mean"
   ]
  },
  {
   "cell_type": "markdown",
   "id": "6e55ea65",
   "metadata": {},
   "source": [
    "##### 6.2 Visualize for treatment and control groups"
   ]
  },
  {
   "cell_type": "code",
   "execution_count": 25,
   "id": "3f3fda1b",
   "metadata": {},
   "outputs": [
    {
     "data": {
      "image/png": "[encoded data removed]",
      "text/plain": [
       "<Figure size 800x600 with 1 Axes>"
      ]
     },
     "metadata": {},
     "output_type": "display_data"
    }
   ],
   "source": [
    "plt.figure(figsize=(8,6))\n",
    "\n",
    "sns.barplot(x=sample['group'], y=sample['converted'])\n",
    "\n",
    "plt.ylim(0, 0.15)\n",
    "plt.title('Conversion rate by group', pad=20)\n",
    "plt.xlabel('Group', labelpad=15)\n",
    "plt.ylabel('Converted (proportion)', labelpad=15);"
   ]
  },
  {
   "cell_type": "code",
   "execution_count": 26,
   "id": "7495d5e0",
   "metadata": {},
   "outputs": [
    {
     "data": {
      "text/html": [
       "<div>\n",
       "<style scoped>\n",
       "    .dataframe tbody tr th:only-of-type {\n",
       "        vertical-align: middle;\n",
       "    }\n",
       "\n",
       "    .dataframe tbody tr th {\n",
       "        vertical-align: top;\n",
       "    }\n",
       "\n",
       "    .dataframe thead tr th {\n",
       "        text-align: left;\n",
       "    }\n",
       "</style>\n",
       "<table border=\"1\" class=\"dataframe\">\n",
       "  <thead>\n",
       "    <tr>\n",
       "      <th></th>\n",
       "      <th>date</th>\n",
       "      <th>group</th>\n",
       "      <th colspan=\"2\" halign=\"left\">converted</th>\n",
       "      <th>conversion_rate</th>\n",
       "    </tr>\n",
       "    <tr>\n",
       "      <th></th>\n",
       "      <th></th>\n",
       "      <th></th>\n",
       "      <th>count</th>\n",
       "      <th>sum</th>\n",
       "      <th></th>\n",
       "    </tr>\n",
       "  </thead>\n",
       "  <tbody>\n",
       "    <tr>\n",
       "      <th>0</th>\n",
       "      <td>2017-01-02</td>\n",
       "      <td>control</td>\n",
       "      <td>96</td>\n",
       "      <td>16</td>\n",
       "      <td>16.666667</td>\n",
       "    </tr>\n",
       "    <tr>\n",
       "      <th>1</th>\n",
       "      <td>2017-01-02</td>\n",
       "      <td>treatment</td>\n",
       "      <td>104</td>\n",
       "      <td>14</td>\n",
       "      <td>13.461538</td>\n",
       "    </tr>\n",
       "    <tr>\n",
       "      <th>2</th>\n",
       "      <td>2017-01-03</td>\n",
       "      <td>control</td>\n",
       "      <td>236</td>\n",
       "      <td>32</td>\n",
       "      <td>13.559322</td>\n",
       "    </tr>\n",
       "    <tr>\n",
       "      <th>3</th>\n",
       "      <td>2017-01-03</td>\n",
       "      <td>treatment</td>\n",
       "      <td>209</td>\n",
       "      <td>30</td>\n",
       "      <td>14.354067</td>\n",
       "    </tr>\n",
       "    <tr>\n",
       "      <th>4</th>\n",
       "      <td>2017-01-04</td>\n",
       "      <td>control</td>\n",
       "      <td>205</td>\n",
       "      <td>31</td>\n",
       "      <td>15.121951</td>\n",
       "    </tr>\n",
       "  </tbody>\n",
       "</table>\n",
       "</div>"
      ],
      "text/plain": [
       "         date      group converted     conversion_rate\n",
       "                             count sum                \n",
       "0  2017-01-02    control        96  16       16.666667\n",
       "1  2017-01-02  treatment       104  14       13.461538\n",
       "2  2017-01-03    control       236  32       13.559322\n",
       "3  2017-01-03  treatment       209  30       14.354067\n",
       "4  2017-01-04    control       205  31       15.121951"
      ]
     },
     "execution_count": 26,
     "metadata": {},
     "output_type": "execute_result"
    }
   ],
   "source": [
    "cr_time = sample.groupby(by=[\"date\", \"group\"], as_index=False)\n",
    "cr_time = cr_time.agg({\"converted\": [\"count\", \"sum\"]})\n",
    "cr_time[\"conversion_rate\"] = (cr_time.converted[\"sum\"] / cr_time.converted[\"count\"]) * 100\n",
    "cr_time.head()"
   ]
  },
  {
   "cell_type": "code",
   "execution_count": 27,
   "id": "f1b5713a",
   "metadata": {},
   "outputs": [
    {
     "data": {
      "image/png": "[encoded data removed]",
      "text/plain": [
       "<Figure size 1100x450 with 1 Axes>"
      ]
     },
     "metadata": {},
     "output_type": "display_data"
    }
   ],
   "source": [
    "# Plot conversion rate over time segmented by group\n",
    "fig, ax = plt.subplots(figsize=(11, 4.5))\n",
    "sns.lineplot(data=cr_time, x=\"date\", y=\"conversion_rate\", hue=\"group\", palette=\"deep\")\n",
    "plt.xticks(rotation=70)\n",
    "plt.tight_layout()"
   ]
  },
  {
   "cell_type": "markdown",
   "id": "de6c8622",
   "metadata": {},
   "source": [
    "Based on the descriptive analysis presented above, there is no clear improvement in the conversion rate between the treatment and control groups. Specifically, \n",
    "* The difference in average conversion rate between the two groups are small in magnitude. \n",
    "* The trends in conversion rate between the two groups are quite similar overall.\n",
    "\n",
    "To rigorously test this, I then perform four statistical tests, including three parametric tests and one nonparametric test."
   ]
  },
  {
   "cell_type": "markdown",
   "id": "89c7a6c1",
   "metadata": {},
   "source": [
    "##### 6.3 Peform formal statistical tests"
   ]
  },
  {
   "cell_type": "markdown",
   "id": "9bdbfdbb",
   "metadata": {},
   "source": [
    "The results from the different statistical tests are consistent with the findings from the descriptive analysis. There are no statistically significant differences between the two groups in terms of conversion rate, with the p-values well above 0.05."
   ]
  },
  {
   "cell_type": "markdown",
   "id": "e91f450b",
   "metadata": {},
   "source": [
    "In the case of bootstrapping methods, after bootstrapping 1,000 times, the treatment has a higher conversion rate only about 63.1% of the time, which is close to 50%. Similarly, when examining the distribution of the differences in average conversion rates, it is observed that they cluster around zero, with about half of the instances falling to the left and the other half to the right. The 95% Confidence Interval which covers null also confirms the finding. "
   ]
  },
  {
   "cell_type": "markdown",
   "id": "1326fa15",
   "metadata": {},
   "source": [
    "###### 6.3.1 Two-sample T-test"
   ]
  },
  {
   "cell_type": "code",
   "execution_count": 28,
   "id": "18d15b8b",
   "metadata": {},
   "outputs": [
    {
     "name": "stdout",
     "output_type": "stream",
     "text": [
      "The t-test value is -0.343. \n",
      "The p-value is 0.732.\n"
     ]
    }
   ],
   "source": [
    "sample1 = sample[sample['group']=='control']['converted']\n",
    "sample2 = sample[sample['group']=='treatment']['converted']\n",
    "\n",
    "t_stat, pval =  st.ttest_ind(sample1, sample2)\n",
    "print('The t-test value is {:.3f}. \\nThe p-value is {:.3f}.'.format(t_stat, pval))"
   ]
  },
  {
   "cell_type": "markdown",
   "id": "747bf539",
   "metadata": {},
   "source": [
    "###### 6.3.2 Two-sample Proportion Z-test"
   ]
  },
  {
   "cell_type": "code",
   "execution_count": 29,
   "id": "0065e8ce",
   "metadata": {},
   "outputs": [
    {
     "name": "stdout",
     "output_type": "stream",
     "text": [
      "The z-test value is -0.343.\n",
      "The p-value is 0.732.\n"
     ]
    }
   ],
   "source": [
    "n1 = sample1.count()\n",
    "n2 = sample2.count()\n",
    "c1 = sample1.sum()\n",
    "c2 = sample2.sum()\n",
    "\n",
    "sample_n = [n1, n2]\n",
    "sample_c = [c1, c2]\n",
    "\n",
    "z_score, p_value = proportions_ztest(count=sample_c, nobs=sample_n, alternative=\"two-sided\")\n",
    "print('The z-test value is {:.3f}.\\nThe p-value is {:.3f}.'.format(z_score, p_value))"
   ]
  },
  {
   "cell_type": "markdown",
   "id": "e50239b1",
   "metadata": {},
   "source": [
    "###### 6.3.3 Chi-square Test"
   ]
  },
  {
   "cell_type": "code",
   "execution_count": 30,
   "id": "4f365657",
   "metadata": {},
   "outputs": [
    {
     "name": "stdout",
     "output_type": "stream",
     "text": [
      "converted     0    1\n",
      "group               \n",
      "control    4139  582\n",
      "treatment  4128  593\n",
      "The Chi-Square value is 0.097.\n",
      "The p-value is 0.755.\n"
     ]
    }
   ],
   "source": [
    "cross_tab = pd.crosstab(index = sample['group'], columns = sample['converted'])\n",
    "print(cross_tab)\n",
    "\n",
    "stat, p, dof, expected = st.chi2_contingency(cross_tab)\n",
    "print('The Chi-Square value is {:.3f}.\\nThe p-value is {:.3f}.'.format(stat,p))"
   ]
  },
  {
   "cell_type": "markdown",
   "id": "83a518e6",
   "metadata": {},
   "source": [
    "###### 6.3.4 Bootstrapping"
   ]
  },
  {
   "cell_type": "code",
   "execution_count": 31,
   "id": "8b9c1aad",
   "metadata": {},
   "outputs": [
    {
     "data": {
      "text/html": [
       "<div>\n",
       "<style scoped>\n",
       "    .dataframe tbody tr th:only-of-type {\n",
       "        vertical-align: middle;\n",
       "    }\n",
       "\n",
       "    .dataframe tbody tr th {\n",
       "        vertical-align: top;\n",
       "    }\n",
       "\n",
       "    .dataframe thead th {\n",
       "        text-align: right;\n",
       "    }\n",
       "</style>\n",
       "<table border=\"1\" class=\"dataframe\">\n",
       "  <thead>\n",
       "    <tr style=\"text-align: right;\">\n",
       "      <th>group</th>\n",
       "      <th>control</th>\n",
       "      <th>treatment</th>\n",
       "    </tr>\n",
       "  </thead>\n",
       "  <tbody>\n",
       "    <tr>\n",
       "      <th>converted</th>\n",
       "      <td>0.128029</td>\n",
       "      <td>0.120737</td>\n",
       "    </tr>\n",
       "    <tr>\n",
       "      <th>converted</th>\n",
       "      <td>0.119274</td>\n",
       "      <td>0.129012</td>\n",
       "    </tr>\n",
       "    <tr>\n",
       "      <th>converted</th>\n",
       "      <td>0.122057</td>\n",
       "      <td>0.121338</td>\n",
       "    </tr>\n",
       "    <tr>\n",
       "      <th>converted</th>\n",
       "      <td>0.129925</td>\n",
       "      <td>0.117969</td>\n",
       "    </tr>\n",
       "    <tr>\n",
       "      <th>converted</th>\n",
       "      <td>0.113961</td>\n",
       "      <td>0.123986</td>\n",
       "    </tr>\n",
       "    <tr>\n",
       "      <th>...</th>\n",
       "      <td>...</td>\n",
       "      <td>...</td>\n",
       "    </tr>\n",
       "    <tr>\n",
       "      <th>converted</th>\n",
       "      <td>0.131702</td>\n",
       "      <td>0.125053</td>\n",
       "    </tr>\n",
       "    <tr>\n",
       "      <th>converted</th>\n",
       "      <td>0.124548</td>\n",
       "      <td>0.123288</td>\n",
       "    </tr>\n",
       "    <tr>\n",
       "      <th>converted</th>\n",
       "      <td>0.126407</td>\n",
       "      <td>0.128828</td>\n",
       "    </tr>\n",
       "    <tr>\n",
       "      <th>converted</th>\n",
       "      <td>0.125669</td>\n",
       "      <td>0.128694</td>\n",
       "    </tr>\n",
       "    <tr>\n",
       "      <th>converted</th>\n",
       "      <td>0.127544</td>\n",
       "      <td>0.132048</td>\n",
       "    </tr>\n",
       "  </tbody>\n",
       "</table>\n",
       "<p>1000 rows × 2 columns</p>\n",
       "</div>"
      ],
      "text/plain": [
       "group       control  treatment\n",
       "converted  0.128029   0.120737\n",
       "converted  0.119274   0.129012\n",
       "converted  0.122057   0.121338\n",
       "converted  0.129925   0.117969\n",
       "converted  0.113961   0.123986\n",
       "...             ...        ...\n",
       "converted  0.131702   0.125053\n",
       "converted  0.124548   0.123288\n",
       "converted  0.126407   0.128828\n",
       "converted  0.125669   0.128694\n",
       "converted  0.127544   0.132048\n",
       "\n",
       "[1000 rows x 2 columns]"
      ]
     },
     "execution_count": 31,
     "metadata": {},
     "output_type": "execute_result"
    }
   ],
   "source": [
    "boot_means = []\n",
    "\n",
    "# run the simulation for 1,000 times \n",
    "for i in range(1000):\n",
    "    #frac=1 means randomize the order of all rows \n",
    "    boot_sample = sample.sample(frac=1, replace=True).groupby('group')['converted'].mean()\n",
    "    boot_means.append(boot_sample)\n",
    "\n",
    "boot_means = pd.DataFrame(boot_means)\n",
    "boot_means"
   ]
  },
  {
   "cell_type": "code",
   "execution_count": 32,
   "id": "034ba468",
   "metadata": {},
   "outputs": [
    {
     "data": {
      "text/html": [
       "<div>\n",
       "<style scoped>\n",
       "    .dataframe tbody tr th:only-of-type {\n",
       "        vertical-align: middle;\n",
       "    }\n",
       "\n",
       "    .dataframe tbody tr th {\n",
       "        vertical-align: top;\n",
       "    }\n",
       "\n",
       "    .dataframe thead th {\n",
       "        text-align: right;\n",
       "    }\n",
       "</style>\n",
       "<table border=\"1\" class=\"dataframe\">\n",
       "  <thead>\n",
       "    <tr style=\"text-align: right;\">\n",
       "      <th>group</th>\n",
       "      <th>control</th>\n",
       "      <th>treatment</th>\n",
       "      <th>diff</th>\n",
       "    </tr>\n",
       "  </thead>\n",
       "  <tbody>\n",
       "    <tr>\n",
       "      <th>converted</th>\n",
       "      <td>0.128029</td>\n",
       "      <td>0.120737</td>\n",
       "      <td>-0.056961</td>\n",
       "    </tr>\n",
       "    <tr>\n",
       "      <th>converted</th>\n",
       "      <td>0.119274</td>\n",
       "      <td>0.129012</td>\n",
       "      <td>0.081643</td>\n",
       "    </tr>\n",
       "    <tr>\n",
       "      <th>converted</th>\n",
       "      <td>0.122057</td>\n",
       "      <td>0.121338</td>\n",
       "      <td>-0.005887</td>\n",
       "    </tr>\n",
       "    <tr>\n",
       "      <th>converted</th>\n",
       "      <td>0.129925</td>\n",
       "      <td>0.117969</td>\n",
       "      <td>-0.092024</td>\n",
       "    </tr>\n",
       "    <tr>\n",
       "      <th>converted</th>\n",
       "      <td>0.113961</td>\n",
       "      <td>0.123986</td>\n",
       "      <td>0.087969</td>\n",
       "    </tr>\n",
       "    <tr>\n",
       "      <th>...</th>\n",
       "      <td>...</td>\n",
       "      <td>...</td>\n",
       "      <td>...</td>\n",
       "    </tr>\n",
       "    <tr>\n",
       "      <th>converted</th>\n",
       "      <td>0.131702</td>\n",
       "      <td>0.125053</td>\n",
       "      <td>-0.050488</td>\n",
       "    </tr>\n",
       "    <tr>\n",
       "      <th>converted</th>\n",
       "      <td>0.124548</td>\n",
       "      <td>0.123288</td>\n",
       "      <td>-0.010116</td>\n",
       "    </tr>\n",
       "    <tr>\n",
       "      <th>converted</th>\n",
       "      <td>0.126407</td>\n",
       "      <td>0.128828</td>\n",
       "      <td>0.019148</td>\n",
       "    </tr>\n",
       "    <tr>\n",
       "      <th>converted</th>\n",
       "      <td>0.125669</td>\n",
       "      <td>0.128694</td>\n",
       "      <td>0.024073</td>\n",
       "    </tr>\n",
       "    <tr>\n",
       "      <th>converted</th>\n",
       "      <td>0.127544</td>\n",
       "      <td>0.132048</td>\n",
       "      <td>0.035311</td>\n",
       "    </tr>\n",
       "  </tbody>\n",
       "</table>\n",
       "<p>1000 rows × 3 columns</p>\n",
       "</div>"
      ],
      "text/plain": [
       "group       control  treatment      diff\n",
       "converted  0.128029   0.120737 -0.056961\n",
       "converted  0.119274   0.129012  0.081643\n",
       "converted  0.122057   0.121338 -0.005887\n",
       "converted  0.129925   0.117969 -0.092024\n",
       "converted  0.113961   0.123986  0.087969\n",
       "...             ...        ...       ...\n",
       "converted  0.131702   0.125053 -0.050488\n",
       "converted  0.124548   0.123288 -0.010116\n",
       "converted  0.126407   0.128828  0.019148\n",
       "converted  0.125669   0.128694  0.024073\n",
       "converted  0.127544   0.132048  0.035311\n",
       "\n",
       "[1000 rows x 3 columns]"
      ]
     },
     "execution_count": 32,
     "metadata": {},
     "output_type": "execute_result"
    }
   ],
   "source": [
    "# create the difference between the two variants, scaled by the control group\n",
    "boot_means['diff'] = (boot_means['treatment'] - boot_means['control'])/boot_means['control']\n",
    "boot_means"
   ]
  },
  {
   "cell_type": "code",
   "execution_count": 33,
   "id": "f6e2a69e",
   "metadata": {},
   "outputs": [
    {
     "data": {
      "text/plain": [
       "Text(0.5, 0, 'diff in means')"
      ]
     },
     "execution_count": 33,
     "metadata": {},
     "output_type": "execute_result"
    },
    {
     "data": {
      "image/png": "[encoded data removed]",
      "text/plain": [
       "<Figure size 640x480 with 1 Axes>"
      ]
     },
     "metadata": {},
     "output_type": "display_data"
    }
   ],
   "source": [
    "ax = boot_means['diff'].plot(kind = 'kde')\n",
    "ax.set_xlabel(\"diff in means\")"
   ]
  },
  {
   "cell_type": "code",
   "execution_count": 34,
   "id": "d7e1edea",
   "metadata": {},
   "outputs": [
    {
     "name": "stdout",
     "output_type": "stream",
     "text": [
      "0.649\n"
     ]
    }
   ],
   "source": [
    "p = (boot_means['diff'] > 0).sum()/len(boot_means)\n",
    "print(p)"
   ]
  },
  {
   "cell_type": "code",
   "execution_count": 35,
   "id": "c8e60327",
   "metadata": {},
   "outputs": [
    {
     "name": "stdout",
     "output_type": "stream",
     "text": [
      "95% Confidence Interval: -0.057823287182189105 0.13405124036757765\n"
     ]
    }
   ],
   "source": [
    "lower_bound = np.percentile(boot_means, 2.5)\n",
    "upper_bound = np.percentile(boot_means, 97.5)\n",
    "print(\"95% Confidence Interval:\", lower_bound, upper_bound)"
   ]
  },
  {
   "cell_type": "code",
   "execution_count": 36,
   "id": "2f88bce1",
   "metadata": {},
   "outputs": [],
   "source": [
    "# # kernel density estimate\n",
    "# boot_means.plot(kind = 'kde')"
   ]
  },
  {
   "cell_type": "markdown",
   "id": "4007f8de",
   "metadata": {},
   "source": [
    "### Part 4 - Conclusion"
   ]
  },
  {
   "cell_type": "markdown",
   "id": "55a6ebd5",
   "metadata": {},
   "source": [
    "Based on both the descriptive and statistical results, one cannot reject the null hypothesis. This implies that the new page design does not perform significantly better in conversion rate than the old landing page. Therefore, it is recommended that the company does NOT proceed with scaling up the new design site-wide."
   ]
  }
 ],
 "metadata": {
  "kernelspec": {
   "display_name": "Python 3 (ipykernel)",
   "language": "python",
   "name": "python3"
  },
  "language_info": {
   "codemirror_mode": {
    "name": "ipython",
    "version": 3
   },
   "file_extension": ".py",
   "mimetype": "text/x-python",
   "name": "python",
   "nbconvert_exporter": "python",
   "pygments_lexer": "ipython3",
   "version": "3.9.13"
  }
 },
 "nbformat": 4,
 "nbformat_minor": 5
}
